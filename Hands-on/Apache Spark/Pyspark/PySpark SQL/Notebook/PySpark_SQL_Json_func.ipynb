{
 "cells": [
  {
   "cell_type": "code",
   "execution_count": 2,
   "id": "e749f515",
   "metadata": {},
   "outputs": [],
   "source": [
    "import findspark\n",
    "findspark.init()"
   ]
  },
  {
   "cell_type": "code",
   "execution_count": 11,
   "id": "dda539f3",
   "metadata": {},
   "outputs": [],
   "source": [
    "import pyspark\n",
    "from pyspark.sql import SparkSession,Row"
   ]
  },
  {
   "cell_type": "code",
   "execution_count": 12,
   "id": "bb030b53",
   "metadata": {},
   "outputs": [],
   "source": [
    "spark = SparkSession.builder.appName('cgpysparksqllabs').getOrCreate()"
   ]
  },
  {
   "cell_type": "code",
   "execution_count": 13,
   "id": "ab04998f",
   "metadata": {},
   "outputs": [
    {
     "name": "stderr",
     "output_type": "stream",
     "text": [
      "                                                                                \r"
     ]
    },
    {
     "name": "stdout",
     "output_type": "stream",
     "text": [
      "+---+---------------------------------------------------------------------+\n",
      "|id |value                                                                |\n",
      "+---+---------------------------------------------------------------------+\n",
      "|1  |{\"Zipcode\":704, \"ZipcodeType\":\"STANDARD\",\"City\":\"PARIS\",\"State\":\"PR\"}|\n",
      "+---+---------------------------------------------------------------------+\n",
      "\n"
     ]
    }
   ],
   "source": [
    "jsonString = \"\"\"{\"Zipcode\":704, \"ZipcodeType\":\"STANDARD\",\"City\":\"PARIS\",\"State\":\"PR\"}\"\"\"\n",
    "df = spark.createDataFrame([(1, jsonString)],[\"id\", \"value\"])\n",
    "df.show(truncate=False)"
   ]
  },
  {
   "cell_type": "code",
   "execution_count": 14,
   "id": "d3eac15a",
   "metadata": {},
   "outputs": [
    {
     "name": "stdout",
     "output_type": "stream",
     "text": [
      "root\n",
      " |-- id: long (nullable = true)\n",
      " |-- value: map (nullable = true)\n",
      " |    |-- key: string\n",
      " |    |-- value: string (valueContainsNull = true)\n",
      "\n",
      "+---+---------------------------------------------------------------------+\n",
      "|id |value                                                                |\n",
      "+---+---------------------------------------------------------------------+\n",
      "|1  |{Zipcode -> 704, ZipcodeType -> STANDARD, City -> PARIS, State -> PR}|\n",
      "+---+---------------------------------------------------------------------+\n",
      "\n"
     ]
    }
   ],
   "source": [
    "# Convert json string column to Map type \n",
    "from pyspark.sql.types import MapType,StringType\n",
    "from pyspark.sql.functions import from_json\n",
    "df2 = df.withColumn(\"value\", from_json(df.value,MapType(StringType(),StringType())))\n",
    "df2.printSchema()\n",
    "df2.show(truncate=False)"
   ]
  },
  {
   "cell_type": "code",
   "execution_count": 15,
   "id": "c8af6cc4",
   "metadata": {},
   "outputs": [
    {
     "name": "stdout",
     "output_type": "stream",
     "text": [
      "+---+----------------------------------------------------------------------+\n",
      "|id |value                                                                 |\n",
      "+---+----------------------------------------------------------------------+\n",
      "|1  |{\"Zipcode\":\"704\",\"ZipcodeType\":\"STANDARD\",\"City\":\"PARIS\",\"State\":\"PR\"}|\n",
      "+---+----------------------------------------------------------------------+\n",
      "\n"
     ]
    }
   ],
   "source": [
    "# to_json() func \n",
    "from pyspark.sql.functions import to_json,col \n",
    "df2.withColumn(\"value\",to_json(col(\"value\"))).show(truncate=False)"
   ]
  },
  {
   "cell_type": "code",
   "execution_count": 16,
   "id": "1d6177f0",
   "metadata": {},
   "outputs": [
    {
     "name": "stdout",
     "output_type": "stream",
     "text": [
      "+---+-------+-----------+-----+\n",
      "|id |ZipCode|ZipCodeType|City |\n",
      "+---+-------+-----------+-----+\n",
      "|1  |704    |null       |PARIS|\n",
      "+---+-------+-----------+-----+\n",
      "\n"
     ]
    }
   ],
   "source": [
    "# json_tuple() func\n",
    "from pyspark.sql.functions import json_tuple \n",
    "df.select(col(\"id\"),json_tuple(col(\"value\"),\"Zipcode\",\"ZipCodeType\",\"City\")).toDF(\"id\",\"ZipCode\",\"ZipCodeType\",\"City\").show(truncate=False)"
   ]
  },
  {
   "cell_type": "code",
   "execution_count": 17,
   "id": "543765b6",
   "metadata": {},
   "outputs": [
    {
     "name": "stdout",
     "output_type": "stream",
     "text": [
      "+---+-----------+\n",
      "|id |ZipCodeType|\n",
      "+---+-----------+\n",
      "|1  |null       |\n",
      "+---+-----------+\n",
      "\n"
     ]
    }
   ],
   "source": [
    "# get_json_object() func in PySpark SQL \n",
    "from pyspark.sql.functions import get_json_object\n",
    "df.select(col(\"id\"),get_json_object(col(\"value\"),\"$.ZipCodeType\").alias(\"ZipCodeType\")).show(truncate=False)"
   ]
  },
  {
   "cell_type": "code",
   "execution_count": 18,
   "id": "644cf5d4",
   "metadata": {},
   "outputs": [
    {
     "name": "stdout",
     "output_type": "stream",
     "text": [
      "STRUCT<City: STRING, State: STRING, ZipCodetype: STRING, Zipcode: BIGINT>\n"
     ]
    }
   ],
   "source": [
    "from pyspark.sql.functions import schema_of_json,lit\n",
    "schemaStr=spark.range(1).select(schema_of_json(lit(\"\"\"{\"Zipcode\":704, \"ZipCodetype\":\"STANDARD\",\"City\":\"PARIS\",\"State\":\"PR\"}\"\"\"))).collect()[0][0]\n",
    "print(schemaStr)"
   ]
  },
  {
   "cell_type": "code",
   "execution_count": null,
   "id": "fdea9327",
   "metadata": {},
   "outputs": [],
   "source": []
  }
 ],
 "metadata": {
  "kernelspec": {
   "display_name": "Python 3 (ipykernel)",
   "language": "python",
   "name": "python3"
  },
  "language_info": {
   "codemirror_mode": {
    "name": "ipython",
    "version": 3
   },
   "file_extension": ".py",
   "mimetype": "text/x-python",
   "name": "python",
   "nbconvert_exporter": "python",
   "pygments_lexer": "ipython3",
   "version": "3.8.10"
  }
 },
 "nbformat": 4,
 "nbformat_minor": 5
}
